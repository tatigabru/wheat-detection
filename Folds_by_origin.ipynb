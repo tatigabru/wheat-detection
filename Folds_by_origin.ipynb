{
 "cells": [
  {
   "cell_type": "code",
   "execution_count": 2,
   "metadata": {},
   "outputs": [],
   "source": [
    "import pandas as pd\n",
    "import numpy as np\n",
    "import cv2\n",
    "import os\n",
    "from sklearn.model_selection import train_test_split"
   ]
  },
  {
   "cell_type": "code",
   "execution_count": 3,
   "metadata": {},
   "outputs": [],
   "source": [
    "DIR_INPUT = '/kaggle/input/global-wheat-detection'\n",
    "DIR_INPUT = \"../data\"\n",
    "DIR_TRAIN = f'{DIR_INPUT}/train'\n",
    "DIR_TEST = f'{DIR_INPUT}/test'\n",
    "\n",
    "locations = ['arvalis_1', 'arvalis_2', 'arvalis_3', 'inrae_1', 'usask_1', 'rres_1', 'ethz_1']"
   ]
  },
  {
   "cell_type": "code",
   "execution_count": 4,
   "metadata": {},
   "outputs": [
    {
     "data": {
      "text/plain": [
       "array(['usask_1', 'arvalis_1', 'inrae_1', 'ethz_1', 'arvalis_3', 'rres_1',\n",
       "       'arvalis_2'], dtype=object)"
      ]
     },
     "execution_count": 4,
     "metadata": {},
     "output_type": "execute_result"
    }
   ],
   "source": [
    "train_df = pd.read_csv(f\"{DIR_INPUT}/train.csv\")\n",
    "train_df = pd.read_csv(f\"{DIR_INPUT}/fixed_train.csv\")\n",
    "\n",
    "locations = train_df['source'].unique()\n",
    "locations"
   ]
  },
  {
   "cell_type": "code",
   "execution_count": 5,
   "metadata": {},
   "outputs": [
    {
     "data": {
      "text/html": [
       "<div>\n",
       "<style scoped>\n",
       "    .dataframe tbody tr th:only-of-type {\n",
       "        vertical-align: middle;\n",
       "    }\n",
       "\n",
       "    .dataframe tbody tr th {\n",
       "        vertical-align: top;\n",
       "    }\n",
       "\n",
       "    .dataframe thead th {\n",
       "        text-align: right;\n",
       "    }\n",
       "</style>\n",
       "<table border=\"1\" class=\"dataframe\">\n",
       "  <thead>\n",
       "    <tr style=\"text-align: right;\">\n",
       "      <th></th>\n",
       "      <th>image_id</th>\n",
       "      <th>width</th>\n",
       "      <th>height</th>\n",
       "      <th>bbox</th>\n",
       "      <th>source</th>\n",
       "    </tr>\n",
       "  </thead>\n",
       "  <tbody>\n",
       "    <tr>\n",
       "      <td>0</td>\n",
       "      <td>b6ab77fd7</td>\n",
       "      <td>1024</td>\n",
       "      <td>1024</td>\n",
       "      <td>[834.0, 222.0, 56.0, 36.0]</td>\n",
       "      <td>usask_1</td>\n",
       "    </tr>\n",
       "    <tr>\n",
       "      <td>1</td>\n",
       "      <td>b6ab77fd7</td>\n",
       "      <td>1024</td>\n",
       "      <td>1024</td>\n",
       "      <td>[226.0, 548.0, 130.0, 58.0]</td>\n",
       "      <td>usask_1</td>\n",
       "    </tr>\n",
       "    <tr>\n",
       "      <td>2</td>\n",
       "      <td>b6ab77fd7</td>\n",
       "      <td>1024</td>\n",
       "      <td>1024</td>\n",
       "      <td>[377.0, 504.0, 74.0, 160.0]</td>\n",
       "      <td>usask_1</td>\n",
       "    </tr>\n",
       "    <tr>\n",
       "      <td>3</td>\n",
       "      <td>b6ab77fd7</td>\n",
       "      <td>1024</td>\n",
       "      <td>1024</td>\n",
       "      <td>[834.0, 95.0, 109.0, 107.0]</td>\n",
       "      <td>usask_1</td>\n",
       "    </tr>\n",
       "    <tr>\n",
       "      <td>4</td>\n",
       "      <td>b6ab77fd7</td>\n",
       "      <td>1024</td>\n",
       "      <td>1024</td>\n",
       "      <td>[26.0, 144.0, 124.0, 117.0]</td>\n",
       "      <td>usask_1</td>\n",
       "    </tr>\n",
       "  </tbody>\n",
       "</table>\n",
       "</div>"
      ],
      "text/plain": [
       "    image_id  width  height                         bbox   source\n",
       "0  b6ab77fd7   1024    1024   [834.0, 222.0, 56.0, 36.0]  usask_1\n",
       "1  b6ab77fd7   1024    1024  [226.0, 548.0, 130.0, 58.0]  usask_1\n",
       "2  b6ab77fd7   1024    1024  [377.0, 504.0, 74.0, 160.0]  usask_1\n",
       "3  b6ab77fd7   1024    1024  [834.0, 95.0, 109.0, 107.0]  usask_1\n",
       "4  b6ab77fd7   1024    1024  [26.0, 144.0, 124.0, 117.0]  usask_1"
      ]
     },
     "execution_count": 5,
     "metadata": {},
     "output_type": "execute_result"
    }
   ],
   "source": [
    "train_df.head()"
   ]
  },
  {
   "cell_type": "code",
   "execution_count": 6,
   "metadata": {},
   "outputs": [
    {
     "data": {
      "text/plain": [
       "3373"
      ]
     },
     "execution_count": 6,
     "metadata": {},
     "output_type": "execute_result"
    }
   ],
   "source": [
    "image_ids = train_df['image_id'].unique()\n",
    "len(image_ids)"
   ]
  },
  {
   "cell_type": "code",
   "execution_count": 7,
   "metadata": {},
   "outputs": [
    {
     "data": {
      "text/plain": [
       "source     image_id \n",
       "arvalis_1  134d4a01c    101\n",
       "           4cf91995d     97\n",
       "           a06241eb3     95\n",
       "           a119a31fb     95\n",
       "           ab026459d     93\n",
       "                       ... \n",
       "usask_1    a76ca8630      9\n",
       "           bff5440bc      9\n",
       "           8f05b9e06      8\n",
       "           be5ba0745      8\n",
       "           c3c03e0b7      8\n",
       "Name: image_id, Length: 3373, dtype: int64"
      ]
     },
     "execution_count": 7,
     "metadata": {},
     "output_type": "execute_result"
    }
   ],
   "source": [
    "train_df.groupby(train_df['source'])['image_id'].value_counts()"
   ]
  },
  {
   "cell_type": "code",
   "execution_count": 8,
   "metadata": {},
   "outputs": [
    {
     "name": "stdout",
     "output_type": "stream",
     "text": [
      "location: usask_1, unique images: 200\n",
      "location: arvalis_1, unique images: 1055\n",
      "location: inrae_1, unique images: 176\n",
      "location: ethz_1, unique images: 747\n",
      "location: arvalis_3, unique images: 559\n",
      "location: rres_1, unique images: 432\n",
      "location: arvalis_2, unique images: 204\n"
     ]
    }
   ],
   "source": [
    "for num in range(len(locations)):\n",
    "    train_df_ = train_df[train_df['source'] == locations[num]]\n",
    "    image_ids = train_df_['image_id'].unique()    \n",
    "    print(f'location: {locations[num]}, unique images: {len(image_ids)}')"
   ]
  },
  {
   "cell_type": "code",
   "execution_count": 9,
   "metadata": {},
   "outputs": [
    {
     "data": {
      "text/plain": [
       "674.6"
      ]
     },
     "execution_count": 9,
     "metadata": {},
     "output_type": "execute_result"
    }
   ],
   "source": [
    "3373*0.2"
   ]
  },
  {
   "cell_type": "code",
   "execution_count": 10,
   "metadata": {},
   "outputs": [
    {
     "name": "stderr",
     "output_type": "stream",
     "text": [
      "C:\\ProgramData\\Anaconda3\\lib\\site-packages\\ipykernel_launcher.py:3: SettingWithCopyWarning: \n",
      "A value is trying to be set on a copy of a slice from a DataFrame\n",
      "\n",
      "See the caveats in the documentation: http://pandas.pydata.org/pandas-docs/stable/user_guide/indexing.html#returning-a-view-versus-a-copy\n",
      "  This is separate from the ipykernel package so we can avoid doing imports until\n"
     ]
    }
   ],
   "source": [
    "# fold 0 arvalis_3 + arvalis_1 part\n",
    "train_df['fold'] = -1\n",
    "train_df['fold'][train_df['source'] == 'arvalis_3'] = 0"
   ]
  },
  {
   "cell_type": "code",
   "execution_count": 11,
   "metadata": {},
   "outputs": [
    {
     "data": {
      "text/plain": [
       "116"
      ]
     },
     "execution_count": 11,
     "metadata": {},
     "output_type": "execute_result"
    }
   ],
   "source": [
    "train_df_ = train_df[train_df['source'] == 'arvalis_1']\n",
    "image_ids = train_df_['image_id'].unique()   \n",
    "\n",
    "_, X_test = train_test_split(image_ids, test_size=(675-559), random_state=42)\n",
    "len(X_test)"
   ]
  },
  {
   "cell_type": "code",
   "execution_count": 12,
   "metadata": {},
   "outputs": [
    {
     "data": {
      "text/plain": [
       "6231    0\n",
       "6232    0\n",
       "6233    0\n",
       "6234    0\n",
       "6235    0\n",
       "Name: fold, dtype: int64"
      ]
     },
     "execution_count": 12,
     "metadata": {},
     "output_type": "execute_result"
    }
   ],
   "source": [
    "train_df.loc[train_df['image_id'].isin(X_test), 'fold'] = 0\n",
    "train_df.loc[train_df['image_id'].isin(X_test), 'fold'].head()"
   ]
  },
  {
   "cell_type": "code",
   "execution_count": 13,
   "metadata": {},
   "outputs": [
    {
     "data": {
      "text/html": [
       "<div>\n",
       "<style scoped>\n",
       "    .dataframe tbody tr th:only-of-type {\n",
       "        vertical-align: middle;\n",
       "    }\n",
       "\n",
       "    .dataframe tbody tr th {\n",
       "        vertical-align: top;\n",
       "    }\n",
       "\n",
       "    .dataframe thead th {\n",
       "        text-align: right;\n",
       "    }\n",
       "</style>\n",
       "<table border=\"1\" class=\"dataframe\">\n",
       "  <thead>\n",
       "    <tr style=\"text-align: right;\">\n",
       "      <th></th>\n",
       "      <th>image_id</th>\n",
       "      <th>width</th>\n",
       "      <th>height</th>\n",
       "      <th>bbox</th>\n",
       "      <th>source</th>\n",
       "      <th>fold</th>\n",
       "    </tr>\n",
       "  </thead>\n",
       "  <tbody>\n",
       "    <tr>\n",
       "      <td>106656</td>\n",
       "      <td>aadb83e1d</td>\n",
       "      <td>1024</td>\n",
       "      <td>1024</td>\n",
       "      <td>[919.0, 33.0, 105.0, 105.0]</td>\n",
       "      <td>arvalis_3</td>\n",
       "      <td>0</td>\n",
       "    </tr>\n",
       "    <tr>\n",
       "      <td>106657</td>\n",
       "      <td>aadb83e1d</td>\n",
       "      <td>1024</td>\n",
       "      <td>1024</td>\n",
       "      <td>[568.0, 17.0, 95.0, 187.0]</td>\n",
       "      <td>arvalis_3</td>\n",
       "      <td>0</td>\n",
       "    </tr>\n",
       "    <tr>\n",
       "      <td>106658</td>\n",
       "      <td>aadb83e1d</td>\n",
       "      <td>1024</td>\n",
       "      <td>1024</td>\n",
       "      <td>[739.0, 501.0, 154.0, 85.0]</td>\n",
       "      <td>arvalis_3</td>\n",
       "      <td>0</td>\n",
       "    </tr>\n",
       "    <tr>\n",
       "      <td>106659</td>\n",
       "      <td>aadb83e1d</td>\n",
       "      <td>1024</td>\n",
       "      <td>1024</td>\n",
       "      <td>[286.0, 949.0, 100.0, 75.0]</td>\n",
       "      <td>arvalis_3</td>\n",
       "      <td>0</td>\n",
       "    </tr>\n",
       "    <tr>\n",
       "      <td>106660</td>\n",
       "      <td>aadb83e1d</td>\n",
       "      <td>1024</td>\n",
       "      <td>1024</td>\n",
       "      <td>[657.0, 660.0, 141.0, 172.0]</td>\n",
       "      <td>arvalis_3</td>\n",
       "      <td>0</td>\n",
       "    </tr>\n",
       "  </tbody>\n",
       "</table>\n",
       "</div>"
      ],
      "text/plain": [
       "         image_id  width  height                          bbox     source  \\\n",
       "106656  aadb83e1d   1024    1024   [919.0, 33.0, 105.0, 105.0]  arvalis_3   \n",
       "106657  aadb83e1d   1024    1024    [568.0, 17.0, 95.0, 187.0]  arvalis_3   \n",
       "106658  aadb83e1d   1024    1024   [739.0, 501.0, 154.0, 85.0]  arvalis_3   \n",
       "106659  aadb83e1d   1024    1024   [286.0, 949.0, 100.0, 75.0]  arvalis_3   \n",
       "106660  aadb83e1d   1024    1024  [657.0, 660.0, 141.0, 172.0]  arvalis_3   \n",
       "\n",
       "        fold  \n",
       "106656     0  \n",
       "106657     0  \n",
       "106658     0  \n",
       "106659     0  \n",
       "106660     0  "
      ]
     },
     "execution_count": 13,
     "metadata": {},
     "output_type": "execute_result"
    }
   ],
   "source": [
    "train_df[train_df['source'] == 'arvalis_3'].head()"
   ]
  },
  {
   "cell_type": "code",
   "execution_count": 14,
   "metadata": {},
   "outputs": [
    {
     "data": {
      "text/plain": [
       "675"
      ]
     },
     "execution_count": 14,
     "metadata": {},
     "output_type": "execute_result"
    }
   ],
   "source": [
    "imgs = train_df['image_id'][train_df['fold'] == 0].unique()\n",
    "len(imgs)"
   ]
  },
  {
   "cell_type": "code",
   "execution_count": 15,
   "metadata": {},
   "outputs": [
    {
     "name": "stderr",
     "output_type": "stream",
     "text": [
      "C:\\ProgramData\\Anaconda3\\lib\\site-packages\\ipykernel_launcher.py:2: SettingWithCopyWarning: \n",
      "A value is trying to be set on a copy of a slice from a DataFrame\n",
      "\n",
      "See the caveats in the documentation: http://pandas.pydata.org/pandas-docs/stable/user_guide/indexing.html#returning-a-view-versus-a-copy\n",
      "  \n",
      "C:\\ProgramData\\Anaconda3\\lib\\site-packages\\ipykernel_launcher.py:3: SettingWithCopyWarning: \n",
      "A value is trying to be set on a copy of a slice from a DataFrame\n",
      "\n",
      "See the caveats in the documentation: http://pandas.pydata.org/pandas-docs/stable/user_guide/indexing.html#returning-a-view-versus-a-copy\n",
      "  This is separate from the ipykernel package so we can avoid doing imports until\n"
     ]
    },
    {
     "data": {
      "text/plain": [
       "39"
      ]
     },
     "execution_count": 15,
     "metadata": {},
     "output_type": "execute_result"
    }
   ],
   "source": [
    "# fold 1 rres_1, arvalis_2 and arvalis_1 part\n",
    "train_df['fold'][train_df['source'] == 'rres_1'] = 1\n",
    "train_df['fold'][train_df['source'] == 'arvalis_2'] = 1\n",
    "\n",
    "_, X_test = train_test_split(image_ids, test_size=(675-432-204), random_state=42)\n",
    "len(X_test)"
   ]
  },
  {
   "cell_type": "code",
   "execution_count": 16,
   "metadata": {},
   "outputs": [
    {
     "data": {
      "text/plain": [
       "675"
      ]
     },
     "execution_count": 16,
     "metadata": {},
     "output_type": "execute_result"
    }
   ],
   "source": [
    "train_df.loc[train_df['image_id'].isin(X_test), 'fold'] = 1\n",
    "imgs = train_df['image_id'][train_df['fold'] == 1].unique()\n",
    "len(imgs)"
   ]
  },
  {
   "cell_type": "code",
   "execution_count": 17,
   "metadata": {},
   "outputs": [
    {
     "data": {
      "text/plain": [
       "675"
      ]
     },
     "execution_count": 17,
     "metadata": {},
     "output_type": "execute_result"
    }
   ],
   "source": [
    "# fold 2 ethz_1 almoust all\n",
    "train_df_ = train_df[train_df['source'] == 'ethz_1']\n",
    "image_ids = train_df_['image_id'].unique()  \n",
    "\n",
    "_, X_test = train_test_split(image_ids, test_size=(675), random_state=42)\n",
    "len(X_test)"
   ]
  },
  {
   "cell_type": "code",
   "execution_count": 18,
   "metadata": {},
   "outputs": [
    {
     "data": {
      "text/plain": [
       "675"
      ]
     },
     "execution_count": 18,
     "metadata": {},
     "output_type": "execute_result"
    }
   ],
   "source": [
    "train_df.loc[train_df['image_id'].isin(X_test), 'fold'] = 2\n",
    "imgs = train_df['image_id'][train_df['fold'] == 2].unique()\n",
    "len(imgs)"
   ]
  },
  {
   "cell_type": "code",
   "execution_count": 19,
   "metadata": {},
   "outputs": [
    {
     "name": "stderr",
     "output_type": "stream",
     "text": [
      "C:\\ProgramData\\Anaconda3\\lib\\site-packages\\ipykernel_launcher.py:2: SettingWithCopyWarning: \n",
      "A value is trying to be set on a copy of a slice from a DataFrame\n",
      "\n",
      "See the caveats in the documentation: http://pandas.pydata.org/pandas-docs/stable/user_guide/indexing.html#returning-a-view-versus-a-copy\n",
      "  \n",
      "C:\\ProgramData\\Anaconda3\\lib\\site-packages\\ipykernel_launcher.py:3: SettingWithCopyWarning: \n",
      "A value is trying to be set on a copy of a slice from a DataFrame\n",
      "\n",
      "See the caveats in the documentation: http://pandas.pydata.org/pandas-docs/stable/user_guide/indexing.html#returning-a-view-versus-a-copy\n",
      "  This is separate from the ipykernel package so we can avoid doing imports until\n"
     ]
    }
   ],
   "source": [
    "# fold 3 usask_1, inrae_1 and arvalis_1 part\n",
    "train_df['fold'][train_df['source'] == 'usask_1'] = 3\n",
    "train_df['fold'][train_df['source'] == 'inrae_1'] = 3"
   ]
  },
  {
   "cell_type": "code",
   "execution_count": 21,
   "metadata": {},
   "outputs": [
    {
     "data": {
      "text/plain": [
       "939"
      ]
     },
     "execution_count": 21,
     "metadata": {},
     "output_type": "execute_result"
    }
   ],
   "source": [
    "train_df_ = train_df[(train_df['source'] == 'arvalis_1')&(train_df['fold'] == -1)]\n",
    "image_ids = train_df_['image_id'].unique()\n",
    "len(image_ids)"
   ]
  },
  {
   "cell_type": "code",
   "execution_count": 22,
   "metadata": {},
   "outputs": [
    {
     "data": {
      "text/plain": [
       "675"
      ]
     },
     "execution_count": 22,
     "metadata": {},
     "output_type": "execute_result"
    }
   ],
   "source": [
    "_, X_test = train_test_split(image_ids, test_size=(675-376), random_state=42)\n",
    "len(X_test)\n",
    "train_df.loc[train_df['image_id'].isin(X_test), 'fold'] = 3\n",
    "imgs = train_df['image_id'][train_df['fold'] == 3].unique()\n",
    "len(imgs)"
   ]
  },
  {
   "cell_type": "code",
   "execution_count": 23,
   "metadata": {},
   "outputs": [],
   "source": [
    "train_df.to_csv('tanya_folds.csv')"
   ]
  },
  {
   "cell_type": "code",
   "execution_count": null,
   "metadata": {},
   "outputs": [],
   "source": [
    "def make_folds(train_df: pd.DataFrame) -> pd.DataFrame:\n",
    "    \"\"\"\n",
    "    Alex folds\n",
    "    \"\"\"\n",
    "    bboxs = np.stack(train_df['bbox'].apply(lambda x: np.fromstring(x[1:-1], sep=',')))\n",
    "    for i, column in enumerate(['x', 'y', 'w', 'h']):\n",
    "        marking[column] = bboxs[:,i]\n",
    "    marking.drop(columns=['bbox'], inplace=True)\n",
    "    skf = StratifiedKFold(n_splits=5, shuffle=True, random_state=42)\n",
    "\n",
    "    df_folds = marking[['image_id']].copy()\n",
    "    df_folds.loc[:, 'bbox_count'] = 1\n",
    "    df_folds = df_folds.groupby('image_id').count()\n",
    "    df_folds.loc[:, 'source'] = marking[['image_id', 'source']].groupby('image_id').min()['source']\n",
    "    df_folds.loc[:, 'stratify_group'] = np.char.add(\n",
    "        df_folds['source'].values.astype(str),\n",
    "        df_folds['bbox_count'].apply(lambda x: f'_{x // 15}').values.astype(str)\n",
    "    )\n",
    "    df_folds.loc[:, 'fold'] = 0\n",
    "\n",
    "    for fold_number, (train_index, val_index) in enumerate(skf.split(X=df_folds.index, y=df_folds['stratify_group'])):\n",
    "        df_folds.loc[df_folds.iloc[val_index].index, 'fold'] = fold_number\n",
    "\n",
    "    return df_folds    \n"
   ]
  }
 ],
 "metadata": {
  "kernelspec": {
   "display_name": "Python 3",
   "language": "python",
   "name": "python3"
  },
  "language_info": {
   "codemirror_mode": {
    "name": "ipython",
    "version": 3
   },
   "file_extension": ".py",
   "mimetype": "text/x-python",
   "name": "python",
   "nbconvert_exporter": "python",
   "pygments_lexer": "ipython3",
   "version": "3.7.4"
  }
 },
 "nbformat": 4,
 "nbformat_minor": 2
}
